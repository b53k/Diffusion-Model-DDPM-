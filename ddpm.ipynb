{
 "cells": [
  {
   "cell_type": "code",
   "execution_count": 1,
   "metadata": {},
   "outputs": [
    {
     "ename": "AttributeError",
     "evalue": "module 'torch.cuda' has no attribute 'backends'",
     "output_type": "error",
     "traceback": [
      "\u001b[0;31m---------------------------------------------------------------------------\u001b[0m",
      "\u001b[0;31mAttributeError\u001b[0m                            Traceback (most recent call last)",
      "Cell \u001b[0;32mIn[1], line 11\u001b[0m\n\u001b[1;32m      8\u001b[0m torch\u001b[39m.\u001b[39mmanual_seed(\u001b[39m2023\u001b[39m)\n\u001b[1;32m     10\u001b[0m \u001b[39m# For numeric stability\u001b[39;00m\n\u001b[0;32m---> 11\u001b[0m torch\u001b[39m.\u001b[39;49mcuda\u001b[39m.\u001b[39;49mbackends\n",
      "\u001b[0;31mAttributeError\u001b[0m: module 'torch.cuda' has no attribute 'backends'"
     ]
    }
   ],
   "source": [
    "import torch, os\n",
    "from torch.utils.data import DataLoader\n",
    "import matplotlib.pyplot as plt\n",
    "from misc.dataset import Dataset\n",
    "from model.diffusion import Diffusion\n",
    "from model.unet import UNet\n",
    "\n",
    "# Set Device and Seed (for reproducibility)\n",
    "device = torch.device('cuda' if torch.cuda.is_available() else 'cpu')\n",
    "torch.manual_seed(2023)\n",
    "\n",
    "# For numeric stability\n",
    "torch.backends.cudnn.benchmark = True\n",
    "\n",
    "# Dataset\n",
    "path = './Linnaeus_Flower/'\n",
    "ds = Dataset(path, img_size = 32, lim = 10)\n",
    "\n",
    "# DataLoader\n",
    "dataloader = DataLoader(dataset = ds, batch_size = 5, shuffle = True, drop_last = False)\n",
    "\n",
    "# Model\n",
    "net = UNet().to(device)\n",
    "diff = Diffusion(model = net)\n",
    "\n",
    "# Optimizer\n",
    "optimizer = torch.optim.AdamW(net.parameters(), lr = 0.00002)\n",
    "\n",
    "# Save and Load Checkpoint\n",
    "root_path = './checkpoint'\n",
    "\n",
    "def save_checkpoint(name):\n",
    "    if not os.path.exists(root_path):\n",
    "        os.makedirs(root_path)\n",
    "    torch.save({\n",
    "        'Epoch':epoch,\n",
    "        'Model_State_Dict':net.state_dict(),\n",
    "        'Optimizer_State_Dict':optimizer.state_dict(),\n",
    "        'Loss':loss\n",
    "    }, f'{root_path}Model-{name}.pkl')\n",
    "\n",
    "def load_checkpoint(name):\n",
    "    checkpoint = torch.load(f'{root_path}Model-{name}.pkl')\n",
    "    net.load_state_dict(checkpoint['Model_State_Dict'])\n",
    "    optimizer.load_state_dict(checkpoint['Optimizer_State_Dict'])\n",
    "    epoch = checkpoint['Epoch']\n",
    "    loss = checkpoint['Loss']\n",
    "\n",
    "    print ('')\n",
    "    print ('Checkpoint Loaded with the following parameters:')\n",
    "    print ('Epoch:{} Loss: {:.4f}'.format(epoch,loss))\n",
    "    print ('==============================================================================')\n",
    "    print ('')\n",
    "\n",
    "# Training Loop\n"
   ]
  },
  {
   "cell_type": "code",
   "execution_count": null,
   "metadata": {},
   "outputs": [],
   "source": []
  }
 ],
 "metadata": {
  "kernelspec": {
   "display_name": "Python 3",
   "language": "python",
   "name": "python3"
  },
  "language_info": {
   "codemirror_mode": {
    "name": "ipython",
    "version": 3
   },
   "file_extension": ".py",
   "mimetype": "text/x-python",
   "name": "python",
   "nbconvert_exporter": "python",
   "pygments_lexer": "ipython3",
   "version": "3.10.7"
  },
  "orig_nbformat": 4,
  "vscode": {
   "interpreter": {
    "hash": "916dbcbb3f70747c44a77c7bcd40155683ae19c65e1c03b4aa3499c5328201f1"
   }
  }
 },
 "nbformat": 4,
 "nbformat_minor": 2
}
